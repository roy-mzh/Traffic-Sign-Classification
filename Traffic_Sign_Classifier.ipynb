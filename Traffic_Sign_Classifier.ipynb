{
 "cells": [
  {
   "cell_type": "markdown",
   "metadata": {},
   "source": [
    "\n",
    "# Project for Data Processing Workshop III\n",
    "\n",
    "## By Dr. Zhe Xuanyuan\n",
    "\n",
    "\n",
    "## Modified from Udacity Neural Network tutorials\n",
    "\n",
    "www.udacity.com\n",
    "\n",
    "\n",
    "## Project: Build a Traffic Sign Recognition Classifier\n",
    "\n",
    "In this notebook, a template is provided for you to implement your functionality in stages, which is required to successfully complete this project. \n",
    "\n",
    "There are four steps:\n",
    "\n",
    "> Step 1: Load The Data\n",
    "\n",
    "> Step 2: Dataset Summary & Exploration\n",
    "\n",
    "> Step 3: Design and Test a Model Architecture\n",
    "\n",
    "> Step 4: Test a Model on New Images\n",
    "\n",
    "If you see \"TODO: \", it means you need to finish the unfinished codes and run the block to see if its output is as expected.\n",
    "\n",
    "If you see \"COMMENTS: \", it means you need to read and understand the provided codes and write comments and explanation of the codes.\n",
    "\n",
    "> **Note**: Once you have completed all of the code implementations, you need to finalize your work by exporting the iPython Notebook as an HTML document. Before exporting the notebook to html, all of the code cells need to have been run so that reviewers can see the final implementation and output. You can then export the notebook by using the menu above and navigating to  \\n\",\n",
    "    \"**File -> Download as -> HTML (.html)**. Include the finished document along with this notebook as your submission. \n",
    "\n",
    "In addition to implementing code, there is a report to complete. The writeup should be completed in a separate file, which can be either a markdown file or a pdf document. In the report, you need to describe at least two problem encountered in setting up the development environment and implementing the codes, and the solutions to them.\n",
    "\n",
    "In order to stand out for your project, you may also try to answer the following questions in your report:\n",
    "- What is the accuracy of your model?\n",
    "- How to increase the accuracy of your model?\n",
    "- Can you use the model to classify other objects as well? What is the workflow?\n",
    "- Can you use other models to classify the traffic signs? How to use new models?\n",
    "\n",
    ">**Note:** Code and Markdown cells can be executed using the **Shift + Enter** keyboard shortcut. In addition, Markdown cells can be edited by typically double-clicking the cell to enter edit mode."
   ]
  },
  {
   "cell_type": "markdown",
   "metadata": {},
   "source": [
    "---\n",
    "## Step 1: Load The Data\n",
    "\n",
    "- Download the data from \n",
    "\n",
    "> link: https://pan.baidu.com/s/1nrXQvs0EGI3bmK6jeN2nAw \n",
    "\n",
    "> code: 4eqc \n",
    "\n",
    "- put the data somewhere in your file system, e.g., the same fold with this notebook file\n",
    "- the .p files are images and labels compressed together in a single file for convinient access"
   ]
  },
  {
   "cell_type": "code",
   "execution_count": 1,
   "metadata": {},
   "outputs": [],
   "source": [
    "# Load pickled data\n",
    "import pickle\n",
    "\n",
    "# TODO: Fill this in based on where you saved the training and testing data\n",
    "\n",
    "training_file = \"data/train.p\"\n",
    "validation_file= \"data/valid.p\"\n",
    "testing_file = \"data/test.p\"\n",
    "\n",
    "#  COMMENTS: load training_file, validation_file, testing_file (binary object) into python object\n",
    "with open(training_file, mode='rb') as f:\n",
    "    train = pickle.load(f)\n",
    "with open(validation_file, mode='rb') as f:\n",
    "    valid = pickle.load(f)\n",
    "with open(testing_file, mode='rb') as f:\n",
    "    test = pickle.load(f)\n",
    "    \n",
    "#  COMMENTS: separate features and label in train, validation, and test.\n",
    "X_train, y_train = train['features'], train['labels']\n",
    "X_valid, y_valid = valid['features'], valid['labels']\n",
    "X_test, y_test = test['features'], test['labels']\n",
    "\n",
    "# COMMENTS: make sure the example number equals in X equals to example number in Y   \n",
    "assert(len(X_train) == len(y_train))\n",
    "assert(len(X_valid) == len(y_valid))\n",
    "assert(len(X_test) == len(y_test))"
   ]
  },
  {
   "cell_type": "code",
   "execution_count": 2,
   "metadata": {},
   "outputs": [
    {
     "name": "stdout",
     "output_type": "stream",
     "text": [
      "[ 0  1  2  3  4  5  6  7  8  9 10 11 12 13 14 15 16 17 18 19 20 21 22 23\n",
      " 24 25 26 27 28 29 30 31 32 33 34 35 36 37 38 39 40 41 42] [ 180 1980 2010 1260 1770 1650  360 1290 1260 1320 1800 1170 1890 1920\n",
      "  690  540  360  990 1080  180  300  270  330  450  240 1350  540  210\n",
      "  480  240  390  690  210  599  360 1080  330  180 1860  270  300  210\n",
      "  210]\n"
     ]
    }
   ],
   "source": [
    "import numpy as np\n",
    "y_train\n",
    "import pandas as pd\n",
    "signames = pd.read_csv(\"data/signnames.csv\")\n",
    "nums, count = np.unique(y_train, return_counts=True)\n",
    "print(nums, count)"
   ]
  },
  {
   "cell_type": "markdown",
   "metadata": {},
   "source": [
    "---\n",
    "\n",
    "## Step 2: Dataset Summary & Exploration\n",
    "\n",
    "The pickled data is a dictionary with 4 key/value pairs:\n",
    "\n",
    "- `'features'` is a 4D array containing raw pixel data of the traffic sign images, (num examples, width, height, channels).\n",
    "- `'labels'` is a 1D array containing the label/class id of the traffic sign. The file `signnames.csv` contains id -> name mappings for each id.\n",
    "- `'sizes'` is a list containing tuples, (width, height) representing the original width and height the image.\n",
    "- `'coords'` is a list containing tuples, (x1, y1, x2, y2) representing coordinates of a bounding box around the sign in the image. **THESE COORDINATES ASSUME THE ORIGINAL IMAGE. THE PICKLED DATA CONTAINS RESIZED VERSIONS (32 by 32) OF THESE IMAGES**\n",
    "\n",
    "Complete the basic data summary below. Use python, numpy and/or pandas methods to calculate the data summary rather than hard coding the results. For example, the [pandas shape method](http://pandas.pydata.org/pandas-docs/stable/generated/pandas.DataFrame.shape.html) might be useful for calculating some of the summary results. "
   ]
  },
  {
   "cell_type": "markdown",
   "metadata": {},
   "source": [
    "### Provide a Basic Summary of the Data Set Using Python, Numpy and/or Pandas"
   ]
  },
  {
   "cell_type": "code",
   "execution_count": 3,
   "metadata": {},
   "outputs": [
    {
     "name": "stdout",
     "output_type": "stream",
     "text": [
      "Number of training examples = 34799\n",
      "Number of validation examples = 4410\n",
      "Number of testing examples = 12630\n",
      "Image data shape = (32, 32, 3)\n",
      "Number of classes = 43\n",
      "[ 0  1  2  3  4  5  6  7  8  9 10 11 12 13 14 15 16 17 18 19 20 21 22 23\n",
      " 24 25 26 27 28 29 30 31 32 33 34 35 36 37 38 39 40 41 42]\n",
      "[ 180 1980 2010 1260 1770 1650  360 1290 1260 1320 1800 1170 1890 1920\n",
      "  690  540  360  990 1080  180  300  270  330  450  240 1350  540  210\n",
      "  480  240  390  690  210  599  360 1080  330  180 1860  270  300  210\n",
      "  210]\n"
     ]
    },
    {
     "data": {
      "image/png": "[encoded data removed]",
      "text/plain": [
       "<Figure size 432x288 with 1 Axes>"
      ]
     },
     "metadata": {
      "needs_background": "light"
     },
     "output_type": "display_data"
    }
   ],
   "source": [
    "### Replace each question mark with the appropriate value. \n",
    "### Use python, pandas or numpy methods rather than hard coding the results\n",
    "import numpy as np\n",
    "import matplotlib.pyplot as plt\n",
    "%matplotlib inline\n",
    "\n",
    "# TODO: Number of training examples\n",
    "n_train = X_train.shape[0]\n",
    "\n",
    "# TODO: Number of testing examples.\n",
    "n_valid = X_valid.shape[0]\n",
    "\n",
    "# TODO: Number of testing examples.\n",
    "n_test = X_test.shape[0]\n",
    "\n",
    "# TODO: What's the shape of an traffic sign image?\n",
    "image_shape = X_train.shape[1:4]\n",
    "\n",
    "# TODO: How many unique classes/labels there are in the dataset. Try \"np.unique\"\n",
    "n_classes = len(np.unique(y_train))\n",
    "\n",
    "# TODO: What are the IDs of the classes, how many samples of each class are in the training set. Try \"np.unique\".\n",
    "class_id, class_counts = np.unique(y_train, return_counts=True)\n",
    "\n",
    "print(\"Number of training examples =\", n_train)\n",
    "print(\"Number of validation examples =\", n_valid)\n",
    "print(\"Number of testing examples =\", n_test)\n",
    "print(\"Image data shape =\", image_shape)\n",
    "print(\"Number of classes =\", n_classes)\n",
    "print(class_id)\n",
    "print(class_counts)\n",
    "\n",
    "#TODO: Draw a bar chart that shows the number of samples of each class in training set, try plt.bar() and plt.show()\n",
    "plt.bar(class_id, class_counts)\n",
    "plt.xlabel(\"class_id\")\n",
    "plt.ylabel(\"class_counts\")\n",
    "plt.title(\"number of samples of each class in training set\")\n",
    "plt.show()"
   ]
  },
  {
   "cell_type": "markdown",
   "metadata": {},
   "source": [
    "### Include an exploratory visualization of the dataset"
   ]
  },
  {
   "cell_type": "markdown",
   "metadata": {},
   "source": [
    "Visualize the German Traffic Signs Dataset using the pickled file(s). This is open ended, suggestions include: plotting traffic sign images, plotting the count of each sign, etc.\n",
    "\n",
    "The [Matplotlib](http://matplotlib.org/) [examples](http://matplotlib.org/examples/index.html) and [gallery](http://matplotlib.org/gallery.html) pages are a great resource for doing visualizations in Python.\n",
    "\n",
    "**NOTE:** It's recommended you start with something simple first. If you wish to do more, come back to it after you've completed the rest of the sections."
   ]
  },
  {
   "cell_type": "code",
   "execution_count": 4,
   "metadata": {},
   "outputs": [
    {
     "name": "stdout",
     "output_type": "stream",
     "text": [
      "13\n"
     ]
    },
    {
     "data": {
      "image/png": "[encoded data removed]",
      "text/plain": [
       "<Figure size 72x72 with 1 Axes>"
      ]
     },
     "metadata": {
      "needs_background": "light"
     },
     "output_type": "display_data"
    }
   ],
   "source": [
    "### Data exploration visualization code goes here.\n",
    "### Feel free to use as many code cells as needed.\n",
    "import random\n",
    "# Visualizations will be shown in the notebook.\n",
    "\n",
    "# COMMENTS: randomly select a picture and display \n",
    "index = random.randint(0,len(X_train)-1)\n",
    "image = X_train[index]\n",
    "\n",
    "plt.figure(figsize=(1,1))\n",
    "plt.imshow(image, cmap=\"gray\")\n",
    "#plt.imshow(image)\n",
    "\n",
    "# COMMENTS: print out the corresponding class id of the randomly selected picture\n",
    "print(y_train[index])"
   ]
  },
  {
   "cell_type": "markdown",
   "metadata": {},
   "source": [
    "----\n",
    "\n",
    "## Step 3: Implement and Test a Model Architecture\n",
    "\n",
    "Implement a deep learning model that learns to recognize traffic signs. Train and test your model on the [German Traffic Sign Dataset](http://benchmark.ini.rub.de/?section=gtsrb&subsection=dataset).\n",
    "\n",
    "There are various aspects to consider when thinking about this problem:\n",
    "\n",
    "- Neural network architecture\n",
    "- Play around preprocessing techniques (normalization, rgb to grayscale, etc)\n",
    "- Number of examples per label (some have more than others).\n",
    "\n",
    "\n",
    "Here is an example of a [published baseline model on this problem](http://yann.lecun.com/exdb/publis/pdf/sermanet-ijcnn-11.pdf). It's not required to be familiar with the approach used in the paper but, it's good practice to try to read papers like these.\n"
   ]
  },
  {
   "cell_type": "markdown",
   "metadata": {},
   "source": [
    "### Pre-process the Data Set (normalization, grayscale, etc.)"
   ]
  },
  {
   "cell_type": "markdown",
   "metadata": {},
   "source": [
    "Use the code cell (or multiple code cells, if necessary) to implement the first step of your project."
   ]
  },
  {
   "cell_type": "code",
   "execution_count": 5,
   "metadata": {},
   "outputs": [
    {
     "name": "stdout",
     "output_type": "stream",
     "text": [
      "13\n"
     ]
    },
    {
     "data": {
      "text/plain": [
       "<matplotlib.image.AxesImage at 0x26550aafa48>"
      ]
     },
     "execution_count": 5,
     "metadata": {},
     "output_type": "execute_result"
    },
    {
     "data": {
      "image/png": "[encoded data removed]",
      "text/plain": [
       "<Figure size 72x72 with 1 Axes>"
      ]
     },
     "metadata": {
      "needs_background": "light"
     },
     "output_type": "display_data"
    }
   ],
   "source": [
    "### Preprocess the data here. Preprocessing steps could include normalization, converting to grayscale, etc.\n",
    "### Feel free to use as many code cells as needed.\n",
    "from sklearn.utils import shuffle\n",
    "import cv2\n",
    "\n",
    "# This function uses OpenCV library to convert RGB color images into gray scale images, which contain only one color channel\n",
    "def grayscale(img):\n",
    "    grayimg = np.zeros((32,32,1))\n",
    "    grayimg[:,:,0]=cv2.cvtColor(img, cv2.COLOR_RGB2GRAY)\n",
    "    return grayimg\n",
    "\n",
    "#X_train, y_train = shuffle(X_train, y_train)\n",
    "\n",
    "# COMMENTS: define array to contain the image after grayscale, which the channel size is 1 \n",
    "X_train_gray = np.zeros((len(X_train),32,32,1))\n",
    "X_valid_gray = np.zeros((len(X_valid),32,32,1))\n",
    "X_test_gray = np.zeros((len(X_test),32,32,1))\n",
    "\n",
    "\n",
    "# COMMENTS: for all pictures in X_train, X_valid, and X_test, convert picture from rgb channels to grayscale one by one\n",
    "for i in range(len(X_train)):\n",
    "    X_train_gray[i] = grayscale(X_train[i])\n",
    "    \n",
    "for i in range(len(X_valid)):\n",
    "    X_valid_gray[i] = grayscale(X_valid[i])\n",
    "    \n",
    "for i in range(len(X_test)):\n",
    "    X_test_gray[i] = grayscale(X_test[i])\n",
    "\n",
    "image = X_train_gray[index][:,:,0]\n",
    "#print(X_train[index].shape())\n",
    "plt.figure(figsize=(1,1))\n",
    "\n",
    "print(y_train[index])\n",
    "# COMMENTS: print out the class id of the converted grayscale picture\n",
    "plt.imshow(image, cmap=\"gray\")\n"
   ]
  },
  {
   "cell_type": "code",
   "execution_count": 6,
   "metadata": {},
   "outputs": [],
   "source": [
    "from sklearn.preprocessing import MinMaxScaler\n",
    "\n",
    "def normolization(X):\n",
    "    dim1, dim2 = X.shape[1:3]\n",
    "    X = X.reshape(-1,1)\n",
    "    scaler = MinMaxScaler(feature_range=[-0.5, 0.5])\n",
    "    X = scaler.fit_transform(X)\n",
    "    X = X.reshape(-1, dim1, dim2, 1)\n",
    "    return X\n",
    "\n",
    "# X_train_gray = normolization(X_train_gray)\n",
    "# X_valid_gray = normolization(X_valid_gray)\n",
    "# X_test_gray = normolization(X_test_gray)"
   ]
  },
  {
   "cell_type": "markdown",
   "metadata": {},
   "source": [
    "### TensorFlow setup"
   ]
  },
  {
   "cell_type": "code",
   "execution_count": 7,
   "metadata": {
    "scrolled": true
   },
   "outputs": [
    {
     "name": "stdout",
     "output_type": "stream",
     "text": [
      "WARNING:tensorflow:From E:\\anaconda\\lib\\site-packages\\tensorflow_core\\python\\compat\\v2_compat.py:88: disable_resource_variables (from tensorflow.python.ops.variable_scope) is deprecated and will be removed in a future version.\n",
      "Instructions for updating:\n",
      "non-resource variables are not supported in the long term\n"
     ]
    }
   ],
   "source": [
    "#COMMENT: import the tensorflow package\n",
    "# pip install --upgrade tensorflow==1.15 -i https://pypi.tuna.tsinghua.edu.cn/simple \n",
    "# tensorflow 1.x only works for python version <= 3.7.x\n",
    "# if your python version is >= 3.8, you cannot install tensorflow 1.x\n",
    "#import tensorflow as tf\n",
    "\n",
    "# or if you have tensorflow 2.x, you can do the following\n",
    "import tensorflow.compat.v1 as tf\n",
    "tf.disable_v2_behavior()\n",
    "\n",
    "# COMMENT: defined the training epochs and batch_size hyper-parameters\n",
    "#EPOCHS = 10   \n",
    "EPOCHS = 80\n",
    "BATCH_SIZE = 128"
   ]
  },
  {
   "cell_type": "markdown",
   "metadata": {},
   "source": [
    "### Model Architecture"
   ]
  },
  {
   "cell_type": "code",
   "execution_count": 8,
   "metadata": {},
   "outputs": [],
   "source": [
    "# COMMENTS: Define the network structure layer by layer\n",
    "def flatten(incoming, name=None):\n",
    "    flat_shape = [-1, np.prod(incoming.shape[1:]).value]\n",
    "    return tf.reshape(incoming, flat_shape)\n",
    "#from tensorflow.contrib.layers import flatten\n",
    "\n",
    "global_conv2 = tf.zeros((1,5,5,16))\n",
    "def LeNet(x):    \n",
    "    global global_conv2\n",
    "    # Arguments used for tf.truncated_normal, randomly defines variables for the weights and biases for each layer\n",
    "    mu = 0\n",
    "    sigma = 0.1\n",
    "    \n",
    "    # Layer 1: Convolutional. Input = 32x32x1. Output = 28x28x6.\n",
    "    conv1_W = tf.Variable(tf.truncated_normal(shape=(5, 5, 1, 6), mean = mu, stddev = sigma))\n",
    "    conv1_b = tf.Variable(tf.zeros(6))\n",
    "    conv1   = tf.nn.conv2d(x, conv1_W, strides=[1, 1, 1, 1], padding='VALID') + conv1_b\n",
    "\n",
    "    # Activation.\n",
    "    conv1 = tf.nn.relu(conv1)\n",
    "\n",
    "    # Pooling. Input = 28x28x6. Output = 14x14x6.\n",
    "    conv1 = tf.nn.max_pool(conv1, ksize=[1, 2, 2, 1], strides=[1, 2, 2, 1], padding='VALID')\n",
    "\n",
    "    # Layer 2: Convolutional. Output = 10x10x16.\n",
    "    conv2_W = tf.Variable(tf.truncated_normal(shape=(5, 5, 6, 16), mean = mu, stddev = sigma))\n",
    "    conv2_b = tf.Variable(tf.zeros(16))\n",
    "    conv2   = tf.nn.conv2d(conv1, conv2_W, strides=[1, 1, 1, 1], padding='VALID') + conv2_b\n",
    "    \n",
    "    # Activation.\n",
    "    conv2 = tf.nn.relu(conv2)\n",
    "\n",
    "    # Pooling. Input = 10x10x16. Output = 5x5x16.\n",
    "    conv2 = tf.nn.max_pool(conv2, ksize=[1, 2, 2, 1], strides=[1, 2, 2, 1], padding='VALID')\n",
    "    global_conv2 = conv2\n",
    "    \n",
    "    # Flatten. Input = 5x5x16. Output = 400.\n",
    "    fc0   = flatten(conv2)\n",
    "    \n",
    "    # Layer 3: Fully Connected. Input = 400. Output = 120.\n",
    "    fc1_W = tf.Variable(tf.truncated_normal(shape=(400, 120), mean = mu, stddev = sigma))\n",
    "    fc1_b = tf.Variable(tf.zeros(120))\n",
    "    fc1   = tf.matmul(fc0, fc1_W) + fc1_b\n",
    "    \n",
    "    # Activation.\n",
    "    fc1    = tf.nn.relu(fc1)\n",
    "\n",
    "    # Layer 4: Fully Connected. Input = 120. Output = 84.\n",
    "    fc2_W  = tf.Variable(tf.truncated_normal(shape=(120, 84), mean = mu, stddev = sigma))\n",
    "    fc2_b  = tf.Variable(tf.zeros(84))\n",
    "    fc2    = tf.matmul(fc1, fc2_W) + fc2_b\n",
    "    \n",
    "    # Activation.\n",
    "    fc2    = tf.nn.relu(fc2)\n",
    "    \n",
    "    # Dropout\n",
    "    #fc2 = tf.nn.dropout(fc2, 0.5)\n",
    "    \n",
    "    # Layer 5: Fully Connected. Input = 84. Output = n_classes （43 here, number of classes).\n",
    "    fc3_W  = tf.Variable(tf.truncated_normal(shape=(84, n_classes), mean = mu, stddev = sigma))\n",
    "    fc3_b  = tf.Variable(tf.zeros(n_classes))\n",
    "    logits = tf.matmul(fc2, fc3_W) + fc3_b\n",
    "    return logits"
   ]
  },
  {
   "cell_type": "markdown",
   "metadata": {},
   "source": [
    "## Features and Labels"
   ]
  },
  {
   "cell_type": "code",
   "execution_count": 9,
   "metadata": {},
   "outputs": [],
   "source": [
    "# COMMENTS: define variables used in tensorflow training by placeholder. And label y with one-hot encoding\n",
    "x = tf.placeholder(tf.float32, (None, 32, 32, 1))\n",
    "y = tf.placeholder(tf.int32, (None))\n",
    "one_hot_y = tf.one_hot(y, n_classes)"
   ]
  },
  {
   "cell_type": "markdown",
   "metadata": {},
   "source": [
    "### Train, Validate and Test the Model"
   ]
  },
  {
   "cell_type": "markdown",
   "metadata": {},
   "source": [
    "A validation set can be used to assess how well the model is performing. A low accuracy on the training and validation\n",
    "sets imply underfitting. A high accuracy on the training set but low accuracy on the validation set implies overfitting."
   ]
  },
  {
   "cell_type": "markdown",
   "metadata": {},
   "source": [
    "Training Pipeline\n",
    "Create a training pipeline that uses the model to classify Traffic Sign data."
   ]
  },
  {
   "cell_type": "code",
   "execution_count": 10,
   "metadata": {
    "scrolled": true
   },
   "outputs": [
    {
     "name": "stdout",
     "output_type": "stream",
     "text": [
      "WARNING:tensorflow:From C:\\conda_temp/ipykernel_13852/4133473762.py:7: softmax_cross_entropy_with_logits (from tensorflow.python.ops.nn_ops) is deprecated and will be removed in a future version.\n",
      "Instructions for updating:\n",
      "\n",
      "Future major versions of TensorFlow will allow gradients to flow\n",
      "into the labels input on backprop by default.\n",
      "\n",
      "See `tf.nn.softmax_cross_entropy_with_logits_v2`.\n",
      "\n"
     ]
    }
   ],
   "source": [
    "rate = 0.001 # learning rate parameter\n",
    "\n",
    "# COMMENTS: get the last lasyer output in LeNet\n",
    "logits = LeNet(x)\n",
    "\n",
    "# COMMENTS: specify cost function to be cross_entropy with logits and the loss is the mean of cross_entropy\n",
    "cross_entropy = tf.nn.softmax_cross_entropy_with_logits( logits=logits,  labels=one_hot_y)\n",
    "loss_operation = tf.reduce_mean(cross_entropy)\n",
    "\n",
    "# COMMENTS: use AdamOptimizer as the optimizer, and training goal is to minimize loss_operation with optimizer\n",
    "optimizer = tf.train.AdamOptimizer(learning_rate = rate)   #AdamOptimizer\n",
    "training_operation = optimizer.minimize(loss_operation)"
   ]
  },
  {
   "cell_type": "markdown",
   "metadata": {},
   "source": [
    "## Model Evaluation\n",
    "Evaluate how well the loss and accuracy of the model for a given dataset."
   ]
  },
  {
   "cell_type": "code",
   "execution_count": 11,
   "metadata": {},
   "outputs": [],
   "source": [
    "correct_prediction = tf.equal(tf.argmax(logits, 1), tf.argmax(one_hot_y, 1))\n",
    "accuracy_operation = tf.reduce_mean(tf.cast(correct_prediction, tf.float32))\n",
    "saver = tf.train.Saver()\n",
    "\n",
    "def evaluate(X_data, y_data):\n",
    "    num_examples = len(X_data)\n",
    "    total_accuracy = 0\n",
    "    sess = tf.get_default_session()\n",
    "    for offset in range(0, num_examples, BATCH_SIZE):\n",
    "        batch_x, batch_y = X_data[offset:offset+BATCH_SIZE], y_data[offset:offset+BATCH_SIZE]\n",
    "        accuracy = sess.run(accuracy_operation, feed_dict={x: batch_x, y: batch_y})\n",
    "        total_accuracy += (accuracy * len(batch_x))\n",
    "    return total_accuracy / num_examples"
   ]
  },
  {
   "cell_type": "code",
   "execution_count": 12,
   "metadata": {
    "scrolled": true
   },
   "outputs": [
    {
     "name": "stdout",
     "output_type": "stream",
     "text": [
      "Training...\n",
      "\n",
      "EPOCH 1 ...\n",
      "Validation Accuracy = 0.702\n",
      "\n",
      "EPOCH 2 ...\n",
      "Validation Accuracy = 0.804\n",
      "\n",
      "EPOCH 3 ...\n",
      "Validation Accuracy = 0.834\n",
      "\n",
      "EPOCH 4 ...\n",
      "Validation Accuracy = 0.858\n",
      "\n",
      "EPOCH 5 ...\n",
      "Validation Accuracy = 0.862\n",
      "\n",
      "EPOCH 6 ...\n",
      "Validation Accuracy = 0.860\n",
      "\n",
      "EPOCH 7 ...\n",
      "Validation Accuracy = 0.869\n",
      "\n",
      "EPOCH 8 ...\n",
      "Validation Accuracy = 0.881\n",
      "\n",
      "EPOCH 9 ...\n",
      "Validation Accuracy = 0.863\n",
      "\n",
      "EPOCH 10 ...\n",
      "Validation Accuracy = 0.857\n",
      "\n",
      "EPOCH 11 ...\n",
      "Validation Accuracy = 0.878\n",
      "\n",
      "EPOCH 12 ...\n",
      "Validation Accuracy = 0.893\n",
      "\n",
      "EPOCH 13 ...\n",
      "Validation Accuracy = 0.876\n",
      "\n",
      "EPOCH 14 ...\n",
      "Validation Accuracy = 0.900\n",
      "\n",
      "EPOCH 15 ...\n",
      "Validation Accuracy = 0.909\n",
      "\n",
      "EPOCH 16 ...\n",
      "Validation Accuracy = 0.866\n",
      "\n",
      "EPOCH 17 ...\n",
      "Validation Accuracy = 0.897\n",
      "\n",
      "EPOCH 18 ...\n",
      "Validation Accuracy = 0.901\n",
      "\n",
      "EPOCH 19 ...\n",
      "Validation Accuracy = 0.898\n",
      "\n",
      "EPOCH 20 ...\n",
      "Validation Accuracy = 0.890\n",
      "\n",
      "EPOCH 21 ...\n",
      "Validation Accuracy = 0.895\n",
      "\n",
      "EPOCH 22 ...\n",
      "Validation Accuracy = 0.890\n",
      "\n",
      "EPOCH 23 ...\n",
      "Validation Accuracy = 0.897\n",
      "\n",
      "EPOCH 24 ...\n",
      "Validation Accuracy = 0.894\n",
      "\n",
      "EPOCH 25 ...\n",
      "Validation Accuracy = 0.898\n",
      "\n",
      "EPOCH 26 ...\n",
      "Validation Accuracy = 0.896\n",
      "\n",
      "EPOCH 27 ...\n",
      "Validation Accuracy = 0.928\n",
      "\n",
      "EPOCH 28 ...\n",
      "Validation Accuracy = 0.913\n",
      "\n",
      "EPOCH 29 ...\n",
      "Validation Accuracy = 0.906\n",
      "\n",
      "EPOCH 30 ...\n",
      "Validation Accuracy = 0.901\n",
      "\n",
      "EPOCH 31 ...\n",
      "Validation Accuracy = 0.915\n",
      "\n",
      "EPOCH 32 ...\n",
      "Validation Accuracy = 0.915\n",
      "\n",
      "EPOCH 33 ...\n",
      "Validation Accuracy = 0.909\n",
      "\n",
      "EPOCH 34 ...\n",
      "Validation Accuracy = 0.914\n",
      "\n",
      "EPOCH 35 ...\n",
      "Validation Accuracy = 0.913\n",
      "\n",
      "EPOCH 36 ...\n",
      "Validation Accuracy = 0.909\n",
      "\n",
      "EPOCH 37 ...\n",
      "Validation Accuracy = 0.924\n",
      "\n",
      "EPOCH 38 ...\n",
      "Validation Accuracy = 0.922\n",
      "\n",
      "EPOCH 39 ...\n",
      "Validation Accuracy = 0.919\n",
      "\n",
      "EPOCH 40 ...\n",
      "Validation Accuracy = 0.911\n",
      "\n",
      "EPOCH 41 ...\n",
      "Validation Accuracy = 0.932\n",
      "\n",
      "EPOCH 42 ...\n",
      "Validation Accuracy = 0.906\n",
      "\n",
      "EPOCH 43 ...\n",
      "Validation Accuracy = 0.923\n",
      "\n",
      "EPOCH 44 ...\n",
      "Validation Accuracy = 0.922\n",
      "\n",
      "EPOCH 45 ...\n",
      "Validation Accuracy = 0.914\n",
      "\n",
      "EPOCH 46 ...\n",
      "Validation Accuracy = 0.927\n",
      "\n",
      "EPOCH 47 ...\n",
      "Validation Accuracy = 0.932\n",
      "\n",
      "EPOCH 48 ...\n",
      "Validation Accuracy = 0.921\n",
      "\n",
      "EPOCH 49 ...\n",
      "Validation Accuracy = 0.929\n",
      "\n",
      "EPOCH 50 ...\n",
      "Validation Accuracy = 0.923\n",
      "\n",
      "EPOCH 51 ...\n",
      "Validation Accuracy = 0.901\n",
      "\n",
      "EPOCH 52 ...\n",
      "Validation Accuracy = 0.911\n",
      "\n",
      "EPOCH 53 ...\n",
      "Validation Accuracy = 0.931\n",
      "\n",
      "EPOCH 54 ...\n",
      "Validation Accuracy = 0.914\n",
      "\n",
      "EPOCH 55 ...\n",
      "Validation Accuracy = 0.920\n",
      "\n",
      "EPOCH 56 ...\n",
      "Validation Accuracy = 0.919\n",
      "\n",
      "EPOCH 57 ...\n",
      "Validation Accuracy = 0.920\n",
      "\n",
      "EPOCH 58 ...\n",
      "Validation Accuracy = 0.913\n",
      "\n",
      "EPOCH 59 ...\n",
      "Validation Accuracy = 0.922\n",
      "\n",
      "EPOCH 60 ...\n",
      "Validation Accuracy = 0.928\n",
      "\n",
      "EPOCH 61 ...\n",
      "Validation Accuracy = 0.924\n",
      "\n",
      "EPOCH 62 ...\n",
      "Validation Accuracy = 0.922\n",
      "\n",
      "EPOCH 63 ...\n",
      "Validation Accuracy = 0.918\n",
      "\n",
      "EPOCH 64 ...\n",
      "Validation Accuracy = 0.922\n",
      "\n",
      "EPOCH 65 ...\n",
      "Validation Accuracy = 0.914\n",
      "\n",
      "EPOCH 66 ...\n",
      "Validation Accuracy = 0.929\n",
      "\n",
      "EPOCH 67 ...\n",
      "Validation Accuracy = 0.916\n",
      "\n",
      "EPOCH 68 ...\n",
      "Validation Accuracy = 0.923\n",
      "\n",
      "EPOCH 69 ...\n",
      "Validation Accuracy = 0.917\n",
      "\n",
      "EPOCH 70 ...\n",
      "Validation Accuracy = 0.924\n",
      "\n",
      "EPOCH 71 ...\n",
      "Validation Accuracy = 0.929\n",
      "\n",
      "EPOCH 72 ...\n",
      "Validation Accuracy = 0.931\n",
      "\n",
      "EPOCH 73 ...\n",
      "Validation Accuracy = 0.911\n",
      "\n",
      "EPOCH 74 ...\n",
      "Validation Accuracy = 0.933\n",
      "\n",
      "EPOCH 75 ...\n",
      "Validation Accuracy = 0.921\n",
      "\n",
      "EPOCH 76 ...\n",
      "Validation Accuracy = 0.917\n",
      "\n",
      "EPOCH 77 ...\n",
      "Validation Accuracy = 0.928\n",
      "\n",
      "EPOCH 78 ...\n",
      "Validation Accuracy = 0.915\n",
      "\n",
      "EPOCH 79 ...\n",
      "Validation Accuracy = 0.932\n",
      "\n",
      "EPOCH 80 ...\n",
      "Validation Accuracy = 0.932\n",
      "\n",
      "Model saved\n"
     ]
    }
   ],
   "source": [
    "### Train the model here.\n",
    "### Calculate and report the accuracy on the training and validation set.\n",
    "### Once a final model architecture is selected, \n",
    "### the accuracy on the test set should be calculated and reported as well.\n",
    "\n",
    "with tf.Session() as sess:\n",
    "    sess.run(tf.global_variables_initializer())\n",
    "    num_examples = len(X_train)\n",
    "    \n",
    "    print(\"Training...\")\n",
    "    print()\n",
    "    for i in range(EPOCHS):\n",
    "        X_train_gray, y_train = shuffle(X_train_gray, y_train)\n",
    "        for offset in range(0, num_examples, BATCH_SIZE):\n",
    "            end = offset + BATCH_SIZE\n",
    "            batch_x, batch_y = X_train_gray[offset:end], y_train[offset:end]\n",
    "            sess.run(training_operation, feed_dict={x: batch_x, y: batch_y})\n",
    "            \n",
    "        validation_accuracy = evaluate(X_valid_gray, y_valid)\n",
    "        print(\"EPOCH {} ...\".format(i+1))\n",
    "        print(\"Validation Accuracy = {:.3f}\".format(validation_accuracy))\n",
    "        print()\n",
    "        \n",
    "    saver.save(sess, './lenet')\n",
    "    print(\"Model saved\")"
   ]
  },
  {
   "cell_type": "markdown",
   "metadata": {},
   "source": [
    "## Test on the test set"
   ]
  },
  {
   "cell_type": "code",
   "execution_count": 13,
   "metadata": {},
   "outputs": [
    {
     "name": "stdout",
     "output_type": "stream",
     "text": [
      "INFO:tensorflow:Restoring parameters from .\\lenet\n",
      "Test Accuracy = 0.923\n"
     ]
    }
   ],
   "source": [
    "with tf.Session() as sess:\n",
    "    saver.restore(sess, tf.train.latest_checkpoint('.'))\n",
    "\n",
    "    test_accuracy = evaluate(X_test_gray, y_test)\n",
    "    print(\"Test Accuracy = {:.3f}\".format(test_accuracy))"
   ]
  },
  {
   "cell_type": "markdown",
   "metadata": {},
   "source": [
    "---\n",
    "\n",
    "## Step 4: Test a Model on New Images\n",
    "\n",
    "To give yourself more insight into how your model is working, download at least five pictures of German traffic signs from the web and use your model to predict the traffic sign type.\n",
    "\n",
    "You may find `signnames.csv` useful as it contains mappings from the class id (integer) to the actual sign name."
   ]
  },
  {
   "cell_type": "markdown",
   "metadata": {},
   "source": [
    "### Load and Output the Images"
   ]
  },
  {
   "cell_type": "code",
   "execution_count": 14,
   "metadata": {
    "scrolled": true
   },
   "outputs": [
    {
     "name": "stdout",
     "output_type": "stream",
     "text": [
      "['1.jpg', '2.jpg', '3.jpg', '4.jpg', '5.jpg']\n",
      "(32, 32, 3)\n",
      "(32, 32, 3)\n",
      "(32, 32, 3)\n",
      "(32, 32, 3)\n",
      "(32, 32, 3)\n"
     ]
    },
    {
     "data": {
      "image/png": "[encoded data removed]",
      "text/plain": [
       "<Figure size 72x72 with 1 Axes>"
      ]
     },
     "metadata": {
      "needs_background": "light"
     },
     "output_type": "display_data"
    },
    {
     "data": {
      "image/png": "[encoded data removed]",
      "text/plain": [
       "<Figure size 72x72 with 1 Axes>"
      ]
     },
     "metadata": {
      "needs_background": "light"
     },
     "output_type": "display_data"
    },
    {
     "data": {
      "image/png": "[encoded data removed]",
      "text/plain": [
       "<Figure size 72x72 with 1 Axes>"
      ]
     },
     "metadata": {
      "needs_background": "light"
     },
     "output_type": "display_data"
    },
    {
     "data": {
      "image/png": "[encoded data removed]",
      "text/plain": [
       "<Figure size 72x72 with 1 Axes>"
      ]
     },
     "metadata": {
      "needs_background": "light"
     },
     "output_type": "display_data"
    },
    {
     "data": {
      "image/png": "[encoded data removed]",
      "text/plain": [
       "<Figure size 72x72 with 1 Axes>"
      ]
     },
     "metadata": {
      "needs_background": "light"
     },
     "output_type": "display_data"
    }
   ],
   "source": [
    "### Load the images and plot them here.\n",
    "### Feel free to use as many code cells as needed.\n",
    "import os\n",
    "import numpy as np\n",
    "import cv2\n",
    "import matplotlib.image as mpimg\n",
    "\n",
    "#TODO: put the images you downloaded into the \"online-images\" folder, which is located in the same folder as this notebook\n",
    "new_images = [str(i)+\".jpg\" for i in range(1,6)]\n",
    "print(new_images)\n",
    "\n",
    "new_image_data = np.zeros((len(new_images),32,32,3))\n",
    "new_image_gray = np.zeros((len(new_images),32,32,1))\n",
    "\n",
    "#TODO: check signnames.csv file and specify the class of your 5 downloaded traffic signs in the vector below\n",
    "y_new_image = [18,33,14,2,28]\n",
    "\n",
    "# COMMENTS: load testing images and convert channel to grayscale and print the converted images\n",
    "for i in range(len(new_images)):\n",
    "    new_image_name = \"online-images/\" + new_images[i]\n",
    "    new_image_data[i] = cv2.imread(new_image_name) \n",
    "    image = new_image_data[i]\n",
    "    print(image.shape)\n",
    "    #cv2.namedWindow(\"image\")\n",
    "    #cv2.imshow(\"image\", image)\n",
    "\n",
    "    image = new_image_data[i].astype(np.uint16)\n",
    "    \n",
    "    new_image_gray[i] = grayscale(image)\n",
    "    image = new_image_gray[i][:,:,0]\n",
    "    plt.figure(figsize=(1,1))\n",
    "    plt.imshow(image, cmap=\"gray\")\n",
    "    \n"
   ]
  },
  {
   "cell_type": "markdown",
   "metadata": {},
   "source": [
    "### Predict the Sign Type for Each Image"
   ]
  },
  {
   "cell_type": "code",
   "execution_count": 25,
   "metadata": {},
   "outputs": [
    {
     "name": "stdout",
     "output_type": "stream",
     "text": [
      "INFO:tensorflow:Restoring parameters from .\\lenet\n",
      "The signs in the pics are : \n",
      "[18 33 14  1 28]\n"
     ]
    }
   ],
   "source": [
    "### Run the predictions here and use the model to output the prediction for each image.\n",
    "### Make sure to pre-process the images with the same pre-processing pipeline used earlier.\n",
    "### Feel free to use as many code cells as needed.\n",
    "prediction_sign = tf.argmax(logits,1)\n",
    "correct_prediction = tf.equal(prediction_sign, tf.argmax(one_hot_y, 1))\n",
    "accuracy_operation = tf.reduce_mean(tf.cast(correct_prediction, tf.float32))\n",
    "saver = tf.train.Saver()\n",
    "\n",
    "def predict_sign(X_data, y_data):\n",
    "    num_examples = len(X_data)\n",
    "    sign_class = np.zeros(len(X_data))\n",
    "    sess = tf.get_default_session()\n",
    "    for offset in range(0, num_examples, BATCH_SIZE):\n",
    "        batch_x, batch_y = X_data[offset:offset+BATCH_SIZE], y_data[offset:offset+BATCH_SIZE]\n",
    "        sign_class = sess.run(prediction_sign, feed_dict={x: batch_x, y: batch_y})\n",
    "    return sign_class \n",
    "\n",
    "with tf.Session() as sess:\n",
    "    saver.restore(sess, tf.train.latest_checkpoint('.'))\n",
    "    new_test_signs = predict_sign(new_image_gray, y_new_image)\n",
    "    print(\"The signs in the pics are : \")\n",
    "    print(new_test_signs)"
   ]
  },
  {
   "cell_type": "markdown",
   "metadata": {},
   "source": [
    "### Analyze Performance"
   ]
  },
  {
   "cell_type": "code",
   "execution_count": 26,
   "metadata": {},
   "outputs": [
    {
     "name": "stdout",
     "output_type": "stream",
     "text": [
      "0.8\n"
     ]
    }
   ],
   "source": [
    "### TODO: Calculate the accuracy for these 5 new images. \n",
    "### For example, if the model predicted 1 out of 5 signs correctly, it's 20% accurate on these new images.\n",
    "new_image_accuracy= sum([new_test_signs[i]==y_new_image[i] for i in range(5)]) / 5\n",
    "print(new_image_accuracy)"
   ]
  },
  {
   "cell_type": "markdown",
   "metadata": {},
   "source": [
    "### Output Top 5 Softmax Probabilities For Each Image Found on the Web"
   ]
  },
  {
   "cell_type": "markdown",
   "metadata": {},
   "source": [
    "For each of the new images, print out the model's softmax probabilities to show the **certainty** of the model's predictions (limit the output to the top 5 probabilities for each image). [`tf.nn.top_k`](https://www.tensorflow.org/versions/r0.12/api_docs/python/nn.html#top_k) could prove helpful here. \n",
    "\n",
    "The example below demonstrates how tf.nn.top_k can be used to find the top k predictions for each image.\n",
    "\n",
    "`tf.nn.top_k` will return the values and indices (class ids) of the top k predictions. So if k=3, for each sign, it'll return the 3 largest probabilities (out of a possible 43) and the correspoding class ids.\n",
    "\n",
    "Take this numpy array as an example. The values in the array represent predictions. The array contains softmax probabilities for five candidate images with six possible classes. `tk.nn.top_k` is used to choose the three classes with the highest probability:\n",
    "\n",
    "```\n",
    "# (5, 6) array\n",
    "a = np.array([[ 0.24879643,  0.07032244,  0.12641572,  0.34763842,  0.07893497,\n",
    "         0.12789202],\n",
    "       [ 0.28086119,  0.27569815,  0.08594638,  0.0178669 ,  0.18063401,\n",
    "         0.15899337],\n",
    "       [ 0.26076848,  0.23664738,  0.08020603,  0.07001922,  0.1134371 ,\n",
    "         0.23892179],\n",
    "       [ 0.11943333,  0.29198961,  0.02605103,  0.26234032,  0.1351348 ,\n",
    "         0.16505091],\n",
    "       [ 0.09561176,  0.34396535,  0.0643941 ,  0.16240774,  0.24206137,\n",
    "         0.09155967]])\n",
    "```\n",
    "\n",
    "Running it through `sess.run(tf.nn.top_k(tf.constant(a), k=3))` produces:\n",
    "\n",
    "```\n",
    "TopKV2(values=array([[ 0.34763842,  0.24879643,  0.12789202],\n",
    "       [ 0.28086119,  0.27569815,  0.18063401],\n",
    "       [ 0.26076848,  0.23892179,  0.23664738],\n",
    "       [ 0.29198961,  0.26234032,  0.16505091],\n",
    "       [ 0.34396535,  0.24206137,  0.16240774]]), indices=array([[3, 0, 5],\n",
    "       [0, 1, 4],\n",
    "       [0, 5, 1],\n",
    "       [1, 3, 5],\n",
    "       [1, 4, 3]], dtype=int32))\n",
    "```\n",
    "\n",
    "Looking just at the first row we get `[ 0.34763842,  0.24879643,  0.12789202]`, you can confirm these are the 3 largest probabilities in `a`. You'll also notice `[3, 0, 5]` are the corresponding indices."
   ]
  },
  {
   "cell_type": "code",
   "execution_count": 17,
   "metadata": {
    "scrolled": true
   },
   "outputs": [
    {
     "name": "stdout",
     "output_type": "stream",
     "text": [
      "INFO:tensorflow:Restoring parameters from .\\lenet\n",
      "TopKV2(values=array([[259.79697 , 121.42918 , 100.016365,  59.822033,  52.42202 ],\n",
      "       [166.84763 ,  33.907963,  26.944538,  24.91345 ,  15.422503],\n",
      "       [ 58.988686,  18.283592,  15.633127,   9.060319,  -7.232526],\n",
      "       [ 96.21587 ,  90.11785 ,  85.98502 ,  35.851364,  29.822262],\n",
      "       [149.09532 ,  55.709877,  38.161674,   9.949212, -10.911157]],\n",
      "      dtype=float32), indices=array([[18, 27, 11, 12, 33],\n",
      "       [33, 35, 39, 13,  8],\n",
      "       [14, 12, 26, 36, 13],\n",
      "       [ 1,  2,  5,  4,  0],\n",
      "       [28, 35, 36, 20, 24]]))\n"
     ]
    }
   ],
   "source": [
    "### Print out the top five softmax probabilities for the predictions on the German traffic sign images found on the web. \n",
    "### Feel free to use as many code cells as needed.\n",
    "with tf.Session() as sess:\n",
    "    saver.restore(sess, tf.train.latest_checkpoint('.'))\n",
    "    a = sess.run(logits, feed_dict={x:new_image_gray})\n",
    "    topk = sess.run(tf.nn.top_k(tf.constant(a), k=5))\n",
    "    print(topk)"
   ]
  }
 ],
 "metadata": {
  "anaconda-cloud": {},
  "kernelspec": {
   "display_name": "Python 3 (ipykernel)",
   "language": "python",
   "name": "python3"
  },
  "language_info": {
   "codemirror_mode": {
    "name": "ipython",
    "version": 3
   },
   "file_extension": ".py",
   "mimetype": "text/x-python",
   "name": "python",
   "nbconvert_exporter": "python",
   "pygments_lexer": "ipython3",
   "version": "3.7.11"
  },
  "widgets": {
   "state": {},
   "version": "1.1.2"
  }
 },
 "nbformat": 4,
 "nbformat_minor": 1
}
